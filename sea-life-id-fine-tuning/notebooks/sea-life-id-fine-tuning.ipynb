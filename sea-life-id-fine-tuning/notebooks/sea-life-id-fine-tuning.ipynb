{
 "cells": [
  {
   "cell_type": "code",
   "execution_count": null,
   "id": "a787353a-28fe-4c3a-b7fd-69fcb6352854",
   "metadata": {},
   "outputs": [],
   "source": [
    "!pip install -e .."
   ]
  },
  {
   "cell_type": "code",
   "execution_count": null,
   "id": "d98cbaeb-0e3d-409b-84e2-260a76a6dfcc",
   "metadata": {},
   "outputs": [],
   "source": [
    "!python ../src/sea_life_id_fine_tuning/main.py prepare-dataset /home/dev/data"
   ]
  },
  {
   "cell_type": "code",
   "execution_count": null,
   "id": "0f9981f4-94fa-43d7-be44-d7d2f78352fd",
   "metadata": {},
   "outputs": [],
   "source": [
    "!python ../src/sea_life_id_fine_tuning/main.py visualize_dataset /home/dev/data --force_rebuild=True --keep_only_small_subset=True"
   ]
  },
  {
   "cell_type": "code",
   "execution_count": null,
   "id": "41fa7121-c247-43cc-b885-63f0cde15046",
   "metadata": {},
   "outputs": [],
   "source": [
    "!python ../src/sea_life_id_fine_tuning/main.py run_finetuning --epochs=10"
   ]
  },
  {
   "cell_type": "code",
   "execution_count": null,
   "id": "6a7e4aef-69af-46aa-b787-d3b3b9c9835c",
   "metadata": {},
   "outputs": [],
   "source": [
    "!python ../src/sea_life_id_fine_tuning/main.py analyze_dataset"
   ]
  },
  {
   "cell_type": "code",
   "execution_count": null,
   "id": "7b45c3e9-4a45-42dd-8a55-6bffc411acdb",
   "metadata": {},
   "outputs": [],
   "source": [
    "!python ../src/sea_life_id_fine_tuning/main.py run_inference /home/dev/data/test-data/fish1878.jpg --with_tflite=False --threshold=0.5"
   ]
  },
  {
   "cell_type": "code",
   "execution_count": null,
   "id": "d06dae5b-5912-4dfe-bcd5-a3ea1809ac52",
   "metadata": {},
   "outputs": [],
   "source": [
    "!python ../src/sea_life_id_fine_tuning/main.py run_inference /home/dev/data/test-data/fish1878.jpg --with_tflite=True --threshold=0.5"
   ]
  }
 ],
 "metadata": {
  "kernelspec": {
   "display_name": "Python 3 (ipykernel)",
   "language": "python",
   "name": "python3"
  },
  "language_info": {
   "codemirror_mode": {
    "name": "ipython",
    "version": 3
   },
   "file_extension": ".py",
   "mimetype": "text/x-python",
   "name": "python",
   "nbconvert_exporter": "python",
   "pygments_lexer": "ipython3",
   "version": "3.11.0rc1"
  }
 },
 "nbformat": 4,
 "nbformat_minor": 5
}
